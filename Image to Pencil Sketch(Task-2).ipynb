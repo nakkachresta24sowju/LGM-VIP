{
 "cells": [
  {
   "cell_type": "code",
   "execution_count": null,
   "id": "4f0d3358",
   "metadata": {},
   "outputs": [],
   "source": [
    "import cv2\n",
    "import matplotlib.pyplot as plt\n",
    "plt.style.use('seaborn')\n"
   ]
  },
  {
   "cell_type": "code",
   "execution_count": null,
   "id": "b8c3ac22",
   "metadata": {},
   "outputs": [],
   "source": [
    "img = cv2.imread(\"wp5317847.jpg\")\n",
    "cv2.imshow(\"Original Image\",img)\n",
    "cv2.waitKey(0)"
   ]
  },
  {
   "cell_type": "code",
   "execution_count": null,
   "id": "4e290240",
   "metadata": {},
   "outputs": [],
   "source": [
    "gray_scale_image = cv2.cvtColor(img, cv2.COLOR_BGR2GRAY)\n",
    "cv2.imshow(\"GrayScale Image\",gray_scale_image)\n",
    "cv2.waitKey(0)    "
   ]
  },
  {
   "cell_type": "code",
   "execution_count": null,
   "id": "d630b3be",
   "metadata": {},
   "outputs": [],
   "source": [
    "inverted_image = cv2.bitwise_not(gray_scale_image)\n",
    "cv2.imshow(\"Negative Image\", inverted_image)\n",
    "cv2.waitKey(0)"
   ]
  },
  {
   "cell_type": "code",
   "execution_count": null,
   "id": "ab4488ef",
   "metadata": {},
   "outputs": [],
   "source": [
    "blurr_image = cv2.GaussianBlur(inverted_image, (21, 21), 0)\n",
    "cv2.imshow(\"Blur Image\",blurr_image)\n",
    "cv2.waitKey(0)"
   ]
  },
  {
   "cell_type": "code",
   "execution_count": null,
   "id": "dae311dd",
   "metadata": {},
   "outputs": [],
   "source": [
    "inverted_blurred = 255 - blurr_image\n",
    "pencil_sketch = cv2.divide(gray_scale_image, blurr_image, scale=256.0)\n",
    "cv2.imshow(\"Sketch\", pencil_sketch)\n",
    "cv2.waitKey(0)   "
   ]
  },
  {
   "cell_type": "code",
   "execution_count": null,
   "id": "9e53c6c4",
   "metadata": {},
   "outputs": [],
   "source": [
    "cv2.imshow(\"original image\", img)\n",
    "cv2.imshow(\"pencil sketch\", pencil_sketch)\n",
    "cv2.waitKey(0)"
   ]
  },
  {
   "cell_type": "code",
   "execution_count": null,
   "id": "391c0e5d",
   "metadata": {},
   "outputs": [],
   "source": []
  }
 ],
 "metadata": {
  "kernelspec": {
   "display_name": "Python 3",
   "language": "python",
   "name": "python3"
  },
  "language_info": {
   "codemirror_mode": {
    "name": "ipython",
    "version": 3
   },
   "file_extension": ".py",
   "mimetype": "text/x-python",
   "name": "python",
   "nbconvert_exporter": "python",
   "pygments_lexer": "ipython3",
   "version": "3.8.8"
  }
 },
 "nbformat": 4,
 "nbformat_minor": 5
}
